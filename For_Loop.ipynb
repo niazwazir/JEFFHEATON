{
  "nbformat": 4,
  "nbformat_minor": 0,
  "metadata": {
    "colab": {
      "name": "For_Loop.ipynb",
      "provenance": []
    },
    "kernelspec": {
      "name": "python3",
      "display_name": "Python 3"
    }
  },
  "cells": [
    {
      "cell_type": "code",
      "metadata": {
        "id": "lsbha_Pf1sou",
        "colab_type": "code",
        "colab": {
          "base_uri": "https://localhost:8080/",
          "height": 170
        },
        "outputId": "df797160-c8ad-4787-8cdc-f34f7b4ac306"
      },
      "source": [
        "for x in range(1, 10):  # If you ever see xrange, you are in Python 2\n",
        "    print(x)  # If you ever see print x (no parenthesis), you are in Python 2"
      ],
      "execution_count": 12,
      "outputs": [
        {
          "output_type": "stream",
          "text": [
            "1\n",
            "2\n",
            "3\n",
            "4\n",
            "5\n",
            "6\n",
            "7\n",
            "8\n",
            "9\n"
          ],
          "name": "stdout"
        }
      ]
    },
    {
      "cell_type": "code",
      "metadata": {
        "id": "83hw3la_2zoi",
        "colab_type": "code",
        "colab": {
          "base_uri": "https://localhost:8080/",
          "height": 187
        },
        "outputId": "936b1425-2011-437d-b8a5-0ddd3eb787a9"
      },
      "source": [
        "acc = 0\n",
        "for x in range(1, 10):\n",
        "    acc += x\n",
        "    print(f\"Adding {x}, sum so far is {acc}\")\n",
        "\n",
        "print(f\"Final sum: {acc}\")"
      ],
      "execution_count": 13,
      "outputs": [
        {
          "output_type": "stream",
          "text": [
            "Adding 1, sum so far is 1\n",
            "Adding 2, sum so far is 3\n",
            "Adding 3, sum so far is 6\n",
            "Adding 4, sum so far is 10\n",
            "Adding 5, sum so far is 15\n",
            "Adding 6, sum so far is 21\n",
            "Adding 7, sum so far is 28\n",
            "Adding 8, sum so far is 36\n",
            "Adding 9, sum so far is 45\n",
            "Final sum: 45\n"
          ],
          "name": "stdout"
        }
      ]
    },
    {
      "cell_type": "code",
      "metadata": {
        "id": "FtEAOP1L3Jiw",
        "colab_type": "code",
        "colab": {}
      },
      "source": [
        ""
      ],
      "execution_count": 0,
      "outputs": []
    }
  ]
}
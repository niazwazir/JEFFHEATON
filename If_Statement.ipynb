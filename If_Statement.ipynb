{
  "nbformat": 4,
  "nbformat_minor": 0,
  "metadata": {
    "colab": {
      "name": "If_Statement.ipynb",
      "provenance": []
    },
    "kernelspec": {
      "name": "python3",
      "display_name": "Python 3"
    }
  },
  "cells": [
    {
      "cell_type": "code",
      "metadata": {
        "id": "lsbha_Pf1sou",
        "colab_type": "code",
        "colab": {
          "base_uri": "https://localhost:8080/",
          "height": 34
        },
        "outputId": "f13abc1b-e2d6-4f20-9304-fa516e7be795"
      },
      "source": [
        "a = 58\n",
        "if a>5:\n",
        "    print('The variable a is greater than 5.')\n",
        "else:\n",
        "    print('The variable a is not greater than 5')"
      ],
      "execution_count": 10,
      "outputs": [
        {
          "output_type": "stream",
          "text": [
            "The variable a is greater than 5.\n"
          ],
          "name": "stdout"
        }
      ]
    },
    {
      "cell_type": "code",
      "metadata": {
        "id": "dVn1ERS52sps",
        "colab_type": "code",
        "colab": {
          "base_uri": "https://localhost:8080/",
          "height": 51
        },
        "outputId": "9f7cafdc-0bee-4aa0-e518-9ec4609746f6"
      },
      "source": [
        "a = 5\n",
        "b = 6\n",
        "\n",
        "if a==5:\n",
        "    print('The variable a is 5')\n",
        "    if b==6:\n",
        "        print('The variable b is also 6')\n",
        "elif a==6:\n",
        "    print('The variable a is 6')"
      ],
      "execution_count": 11,
      "outputs": [
        {
          "output_type": "stream",
          "text": [
            "The variable a is 5\n",
            "The variable b is also 6\n"
          ],
          "name": "stdout"
        }
      ]
    },
    {
      "cell_type": "code",
      "metadata": {
        "id": "83hw3la_2zoi",
        "colab_type": "code",
        "colab": {}
      },
      "source": [
        ""
      ],
      "execution_count": 0,
      "outputs": []
    }
  ]
}
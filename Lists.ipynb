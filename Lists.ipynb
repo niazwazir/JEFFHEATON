{
  "nbformat": 4,
  "nbformat_minor": 0,
  "metadata": {
    "colab": {
      "name": "Lists.ipynb",
      "provenance": []
    },
    "kernelspec": {
      "name": "python3",
      "display_name": "Python 3"
    }
  },
  "cells": [
    {
      "cell_type": "markdown",
      "metadata": {
        "id": "aY46hUW25LSZ",
        "colab_type": "text"
      },
      "source": [
        "Lists are just like the arrays, declared in other languages. \n",
        "\n",
        "The list is a most versatile datatype available in Python which can be written as a list of comma-separated values (items) between square brackets."
      ]
    },
    {
      "cell_type": "code",
      "metadata": {
        "id": "FtEAOP1L3Jiw",
        "colab_type": "code",
        "colab": {}
      },
      "source": [
        "students = [\"Ali\",\"Wali\",\"Bhai\",\"Chema\",\"Zaid\"]"
      ],
      "execution_count": 0,
      "outputs": []
    },
    {
      "cell_type": "code",
      "metadata": {
        "id": "VPEORMC89dty",
        "colab_type": "code",
        "colab": {
          "base_uri": "https://localhost:8080/",
          "height": 34
        },
        "outputId": "67e389fa-5b3d-47f8-aeb7-4e5e1ba3b74e"
      },
      "source": [
        "students"
      ],
      "execution_count": 2,
      "outputs": [
        {
          "output_type": "execute_result",
          "data": {
            "text/plain": [
              "['Ali', 'Wali', 'Bhai', 'Chema', 'Zaid']"
            ]
          },
          "metadata": {
            "tags": []
          },
          "execution_count": 2
        }
      ]
    },
    {
      "cell_type": "code",
      "metadata": {
        "id": "NSHXOogZ59Bf",
        "colab_type": "code",
        "colab": {
          "base_uri": "https://localhost:8080/",
          "height": 34
        },
        "outputId": "c9990fb7-e623-49f6-ff33-593438ef7713"
      },
      "source": [
        "print(students)"
      ],
      "execution_count": 3,
      "outputs": [
        {
          "output_type": "stream",
          "text": [
            "['Ali', 'Wali', 'Bhai', 'Chema', 'Zaid']\n"
          ],
          "name": "stdout"
        }
      ]
    },
    {
      "cell_type": "code",
      "metadata": {
        "id": "J72AB4t346Ul",
        "colab_type": "code",
        "colab": {
          "base_uri": "https://localhost:8080/",
          "height": 34
        },
        "outputId": "8cc4ff44-e5b1-474a-bf71-ad4bacb28b3b"
      },
      "source": [
        "students[0]"
      ],
      "execution_count": 4,
      "outputs": [
        {
          "output_type": "execute_result",
          "data": {
            "text/plain": [
              "'Ali'"
            ]
          },
          "metadata": {
            "tags": []
          },
          "execution_count": 4
        }
      ]
    },
    {
      "cell_type": "code",
      "metadata": {
        "id": "Wji-S9Ux5s__",
        "colab_type": "code",
        "colab": {}
      },
      "source": [
        "#APPEND FUNCTION IS USED TO ADD SOME DATA IN LISTS\n",
        "students.append(\"Dada\")"
      ],
      "execution_count": 0,
      "outputs": []
    },
    {
      "cell_type": "code",
      "metadata": {
        "id": "inIA1DJ26R_V",
        "colab_type": "code",
        "colab": {
          "base_uri": "https://localhost:8080/",
          "height": 34
        },
        "outputId": "6ab5943c-29a5-4c0b-e68f-1cf56fe28b2e"
      },
      "source": [
        "students"
      ],
      "execution_count": 6,
      "outputs": [
        {
          "output_type": "execute_result",
          "data": {
            "text/plain": [
              "['Ali', 'Wali', 'Bhai', 'Chema', 'Zaid', 'Dada']"
            ]
          },
          "metadata": {
            "tags": []
          },
          "execution_count": 6
        }
      ]
    },
    {
      "cell_type": "code",
      "metadata": {
        "id": "TrtRYejF97YB",
        "colab_type": "code",
        "colab": {}
      },
      "source": [
        "#REPLACE STUDENTS NAMES OR UPDATES\n",
        "students[0] = 'Babar'"
      ],
      "execution_count": 0,
      "outputs": []
    },
    {
      "cell_type": "code",
      "metadata": {
        "id": "ycgPKdL0-LPo",
        "colab_type": "code",
        "colab": {
          "base_uri": "https://localhost:8080/",
          "height": 34
        },
        "outputId": "2f6dfc62-2082-4a7f-f476-19a0ff6e8332"
      },
      "source": [
        "students"
      ],
      "execution_count": 8,
      "outputs": [
        {
          "output_type": "execute_result",
          "data": {
            "text/plain": [
              "['Babar', 'Wali', 'Bhai', 'Chema', 'Zaid', 'Dada']"
            ]
          },
          "metadata": {
            "tags": []
          },
          "execution_count": 8
        }
      ]
    },
    {
      "cell_type": "code",
      "metadata": {
        "id": "aJIpamU2-rez",
        "colab_type": "code",
        "colab": {}
      },
      "source": [
        "students.append(\"sattar\")"
      ],
      "execution_count": 0,
      "outputs": []
    },
    {
      "cell_type": "code",
      "metadata": {
        "id": "jcnuPB22-rkT",
        "colab_type": "code",
        "colab": {
          "base_uri": "https://localhost:8080/",
          "height": 34
        },
        "outputId": "8fa8d597-3dad-40bd-be5d-9d5451019664"
      },
      "source": [
        "students.count('Bhai') #SO IN THIS LIST Bhai repeated two times"
      ],
      "execution_count": 10,
      "outputs": [
        {
          "output_type": "execute_result",
          "data": {
            "text/plain": [
              "1"
            ]
          },
          "metadata": {
            "tags": []
          },
          "execution_count": 10
        }
      ]
    },
    {
      "cell_type": "code",
      "metadata": {
        "id": "r7c3jjfn-roO",
        "colab_type": "code",
        "colab": {}
      },
      "source": [
        "students.remove('Wali') #REMOVE NAME FROM LISTS"
      ],
      "execution_count": 0,
      "outputs": []
    },
    {
      "cell_type": "code",
      "metadata": {
        "id": "atXv5PsG-rh0",
        "colab_type": "code",
        "colab": {
          "base_uri": "https://localhost:8080/",
          "height": 34
        },
        "outputId": "ff3211a6-6a8d-4545-a0e5-7146e13842e6"
      },
      "source": [
        "students"
      ],
      "execution_count": 12,
      "outputs": [
        {
          "output_type": "execute_result",
          "data": {
            "text/plain": [
              "['Babar', 'Bhai', 'Chema', 'Zaid', 'Dada', 'sattar']"
            ]
          },
          "metadata": {
            "tags": []
          },
          "execution_count": 12
        }
      ]
    },
    {
      "cell_type": "code",
      "metadata": {
        "id": "RR3sm3BW_dgb",
        "colab_type": "code",
        "colab": {}
      },
      "source": [
        "#LIST SORTING ALPHABATICALLY\n",
        "students.sort()"
      ],
      "execution_count": 0,
      "outputs": []
    },
    {
      "cell_type": "code",
      "metadata": {
        "id": "JlLGtuT-_dj0",
        "colab_type": "code",
        "colab": {
          "base_uri": "https://localhost:8080/",
          "height": 34
        },
        "outputId": "fcdc2dff-b450-48bd-ab11-d704c3b43d87"
      },
      "source": [
        "students"
      ],
      "execution_count": 14,
      "outputs": [
        {
          "output_type": "execute_result",
          "data": {
            "text/plain": [
              "['Babar', 'Bhai', 'Chema', 'Dada', 'Zaid', 'sattar']"
            ]
          },
          "metadata": {
            "tags": []
          },
          "execution_count": 14
        }
      ]
    },
    {
      "cell_type": "code",
      "metadata": {
        "id": "0VBHSD38AZFb",
        "colab_type": "code",
        "colab": {}
      },
      "source": [
        "#LIST REVERSE ORDER SORTING"
      ],
      "execution_count": 0,
      "outputs": []
    },
    {
      "cell_type": "code",
      "metadata": {
        "id": "h9FoIXr9Achs",
        "colab_type": "code",
        "colab": {}
      },
      "source": [
        "students.reverse()"
      ],
      "execution_count": 0,
      "outputs": []
    },
    {
      "cell_type": "code",
      "metadata": {
        "id": "pG4O0t0BAfXQ",
        "colab_type": "code",
        "colab": {
          "base_uri": "https://localhost:8080/",
          "height": 34
        },
        "outputId": "a49c8f7c-7bec-44d2-b783-0ea02670b8cb"
      },
      "source": [
        "students"
      ],
      "execution_count": 17,
      "outputs": [
        {
          "output_type": "execute_result",
          "data": {
            "text/plain": [
              "['sattar', 'Zaid', 'Dada', 'Chema', 'Bhai', 'Babar']"
            ]
          },
          "metadata": {
            "tags": []
          },
          "execution_count": 17
        }
      ]
    },
    {
      "cell_type": "code",
      "metadata": {
        "id": "aZm8Dky6Afa7",
        "colab_type": "code",
        "colab": {}
      },
      "source": [
        "#CONCATENATE TWO LISTS"
      ],
      "execution_count": 0,
      "outputs": []
    },
    {
      "cell_type": "code",
      "metadata": {
        "id": "ZwFw7hruAff9",
        "colab_type": "code",
        "colab": {}
      },
      "source": [
        "students1 = [\"Ali\",\"Khan\"]"
      ],
      "execution_count": 0,
      "outputs": []
    },
    {
      "cell_type": "code",
      "metadata": {
        "id": "4eBdD3dBBFk0",
        "colab_type": "code",
        "colab": {}
      },
      "source": [
        "allstudents = students+students1"
      ],
      "execution_count": 0,
      "outputs": []
    },
    {
      "cell_type": "code",
      "metadata": {
        "id": "P0NQ5hJ9BFrY",
        "colab_type": "code",
        "colab": {
          "base_uri": "https://localhost:8080/",
          "height": 34
        },
        "outputId": "94f50e9f-09e5-4efc-9d2d-5ebdaae17b93"
      },
      "source": [
        "allstudents"
      ],
      "execution_count": 21,
      "outputs": [
        {
          "output_type": "execute_result",
          "data": {
            "text/plain": [
              "['sattar', 'Zaid', 'Dada', 'Chema', 'Bhai', 'Babar', 'Ali', 'Khan']"
            ]
          },
          "metadata": {
            "tags": []
          },
          "execution_count": 21
        }
      ]
    },
    {
      "cell_type": "code",
      "metadata": {
        "id": "sZoJdF2P6T9f",
        "colab_type": "code",
        "colab": {
          "base_uri": "https://localhost:8080/",
          "height": 119
        },
        "outputId": "ff290644-5983-4596-ad08-25db6dc48554"
      },
      "source": [
        "#IF YOU PRINT THROUGH LOOPING USING S\n",
        "for s in students:\n",
        "  print(s)"
      ],
      "execution_count": 15,
      "outputs": [
        {
          "output_type": "stream",
          "text": [
            "Babar\n",
            "Bhai\n",
            "Chema\n",
            "Dada\n",
            "Zaid\n",
            "sattar\n"
          ],
          "name": "stdout"
        }
      ]
    },
    {
      "cell_type": "code",
      "metadata": {
        "id": "x4dH-9SIBk3X",
        "colab_type": "code",
        "colab": {}
      },
      "source": [
        "#Create List of Marks\n",
        "marks = [90,99,80,70,60]"
      ],
      "execution_count": 0,
      "outputs": []
    },
    {
      "cell_type": "code",
      "metadata": {
        "id": "Q-KFpSDkBk_n",
        "colab_type": "code",
        "colab": {
          "base_uri": "https://localhost:8080/",
          "height": 34
        },
        "outputId": "83f14296-3faf-4f7d-db62-37d82beeb7fd"
      },
      "source": [
        "max(marks)"
      ],
      "execution_count": 24,
      "outputs": [
        {
          "output_type": "execute_result",
          "data": {
            "text/plain": [
              "99"
            ]
          },
          "metadata": {
            "tags": []
          },
          "execution_count": 24
        }
      ]
    },
    {
      "cell_type": "code",
      "metadata": {
        "id": "LeAay9-VBlEE",
        "colab_type": "code",
        "colab": {
          "base_uri": "https://localhost:8080/",
          "height": 34
        },
        "outputId": "e0c6e841-2034-4577-bd38-8d8a80b6fac1"
      },
      "source": [
        "min(marks)"
      ],
      "execution_count": 25,
      "outputs": [
        {
          "output_type": "execute_result",
          "data": {
            "text/plain": [
              "60"
            ]
          },
          "metadata": {
            "tags": []
          },
          "execution_count": 25
        }
      ]
    },
    {
      "cell_type": "code",
      "metadata": {
        "id": "8xecgAxD6yOZ",
        "colab_type": "code",
        "colab": {
          "base_uri": "https://localhost:8080/",
          "height": 119
        },
        "outputId": "0f5439c1-04b9-4aac-cba4-e614d22cbda7"
      },
      "source": [
        "#IF YOU PRINT THROUGH LOOPING USING S\n",
        "index = 0\n",
        "for s in students:\n",
        "  print(f'{s} - {index}')\n",
        "  index += 1"
      ],
      "execution_count": 16,
      "outputs": [
        {
          "output_type": "stream",
          "text": [
            "Babar - 0\n",
            "Bhai - 1\n",
            "Chema - 2\n",
            "Dada - 3\n",
            "Zaid - 4\n",
            "sattar - 5\n"
          ],
          "name": "stdout"
        }
      ]
    },
    {
      "cell_type": "code",
      "metadata": {
        "id": "a7DRO6PS7q9S",
        "colab_type": "code",
        "colab": {
          "base_uri": "https://localhost:8080/",
          "height": 119
        },
        "outputId": "e5a27c19-c16b-4632-cd13-6d681e835a17"
      },
      "source": [
        "for i, s in enumerate (students):\n",
        "  print(f'{s}:{index}')\n",
        "  index += 1"
      ],
      "execution_count": 17,
      "outputs": [
        {
          "output_type": "stream",
          "text": [
            "Babar:6\n",
            "Bhai:7\n",
            "Chema:8\n",
            "Dada:9\n",
            "Zaid:10\n",
            "sattar:11\n"
          ],
          "name": "stdout"
        }
      ]
    },
    {
      "cell_type": "code",
      "metadata": {
        "id": "2RS0e2n18Ih2",
        "colab_type": "code",
        "colab": {}
      },
      "source": [
        ""
      ],
      "execution_count": 0,
      "outputs": []
    }
  ]
}
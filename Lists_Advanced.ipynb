{
  "nbformat": 4,
  "nbformat_minor": 0,
  "metadata": {
    "anaconda-cloud": {},
    "kernelspec": {
      "display_name": "Python 3.6 (tensorflow)",
      "language": "python",
      "name": "rga"
    },
    "language_info": {
      "codemirror_mode": {
        "name": "ipython",
        "version": 3
      },
      "file_extension": ".py",
      "mimetype": "text/x-python",
      "name": "python",
      "nbconvert_exporter": "python",
      "pygments_lexer": "ipython3",
      "version": "3.6.9"
    },
    "colab": {
      "name": "Lists_Advanced.ipynb",
      "provenance": []
    }
  },
  "cells": [
    {
      "cell_type": "markdown",
      "metadata": {
        "id": "mdWmCGisD5kE",
        "colab_type": "text"
      },
      "source": [
        "## More Advanced Lists\n",
        "\n",
        "Two lists can be zipped together."
      ]
    },
    {
      "cell_type": "code",
      "metadata": {
        "id": "0-oPsJhcD5kI",
        "colab_type": "code",
        "outputId": "98fe5e67-8342-4c0d-dba8-ed21aec65b13",
        "colab": {
          "base_uri": "https://localhost:8080/",
          "height": 34
        }
      },
      "source": [
        "a = [1,2,3,4,5]\n",
        "b = [5,4,3,2,1]\n",
        "\n",
        "print(zip(a,b))"
      ],
      "execution_count": 0,
      "outputs": [
        {
          "output_type": "stream",
          "text": [
            "<zip object at 0x7fbc5f99e848>\n"
          ],
          "name": "stdout"
        }
      ]
    },
    {
      "cell_type": "markdown",
      "metadata": {
        "id": "p0JgWS-xD5ka",
        "colab_type": "text"
      },
      "source": [
        "To actually see it, convert it to a list."
      ]
    },
    {
      "cell_type": "code",
      "metadata": {
        "id": "z5GYtM7LD5kb",
        "colab_type": "code",
        "outputId": "afa630a4-e394-4ddd-87d5-47b7c67e25c1",
        "colab": {
          "base_uri": "https://localhost:8080/",
          "height": 34
        }
      },
      "source": [
        "a = [1,2,3,4,5]\n",
        "b = [5,4,3,2,1]\n",
        "\n",
        "print(list(zip(a,b)))"
      ],
      "execution_count": 0,
      "outputs": [
        {
          "output_type": "stream",
          "text": [
            "[(1, 5), (2, 4), (3, 3), (4, 2), (5, 1)]\n"
          ],
          "name": "stdout"
        }
      ]
    },
    {
      "cell_type": "markdown",
      "metadata": {
        "id": "p5mL-558D5kj",
        "colab_type": "text"
      },
      "source": [
        "This can be used in a loop."
      ]
    },
    {
      "cell_type": "code",
      "metadata": {
        "id": "FI_8pZdkD5kl",
        "colab_type": "code",
        "outputId": "f421943c-e618-42d2-c306-72840aa852eb",
        "colab": {
          "base_uri": "https://localhost:8080/",
          "height": 102
        }
      },
      "source": [
        "a = [1,2,3,4,5]\n",
        "b = [5,4,3,2,1]\n",
        "\n",
        "for x,y in zip(a,b):\n",
        "    print(f'{x} - {y}')"
      ],
      "execution_count": 0,
      "outputs": [
        {
          "output_type": "stream",
          "text": [
            "1 - 5\n",
            "2 - 4\n",
            "3 - 3\n",
            "4 - 2\n",
            "5 - 1\n"
          ],
          "name": "stdout"
        }
      ]
    },
    {
      "cell_type": "markdown",
      "metadata": {
        "id": "iQDmIYxkD5kv",
        "colab_type": "text"
      },
      "source": [
        "Use a list enumerate function to track what index location a list element is at."
      ]
    },
    {
      "cell_type": "code",
      "metadata": {
        "id": "kcFDnXF8D5kw",
        "colab_type": "code",
        "outputId": "9f9a7b24-be94-4f24-ec6a-54a0766f943e",
        "colab": {}
      },
      "source": [
        "a = ['one','two','three','four','five']\n",
        "list(enumerate(a))"
      ],
      "execution_count": 0,
      "outputs": [
        {
          "output_type": "execute_result",
          "data": {
            "text/plain": [
              "[(0, 'one'), (1, 'two'), (2, 'three'), (3, 'four'), (4, 'five')]"
            ]
          },
          "metadata": {
            "tags": []
          },
          "execution_count": 13
        }
      ]
    },
    {
      "cell_type": "markdown",
      "metadata": {
        "id": "9qLQ7rGsD5k4",
        "colab_type": "text"
      },
      "source": [
        "This can be handy in a list when you need to know what index you are on."
      ]
    },
    {
      "cell_type": "code",
      "metadata": {
        "id": "jvNDQgCUD5k6",
        "colab_type": "code",
        "outputId": "96a2e17f-b90a-47c1-9ef7-a653a272fbd8",
        "colab": {}
      },
      "source": [
        "a = ['one','two','three','four','five']\n",
        "for idx, item in enumerate(a):\n",
        "    print(f'Index {idx} holds \"{item}\"')"
      ],
      "execution_count": 0,
      "outputs": [
        {
          "output_type": "stream",
          "text": [
            "Index 0 holds \"one\"\n",
            "Index 1 holds \"two\"\n",
            "Index 2 holds \"three\"\n",
            "Index 3 holds \"four\"\n",
            "Index 4 holds \"five\"\n"
          ],
          "name": "stdout"
        }
      ]
    },
    {
      "cell_type": "markdown",
      "metadata": {
        "id": "BDrVVQsfD5lJ",
        "colab_type": "text"
      },
      "source": [
        "A comprehension can be used to dynamically build up a list.  The comprehension below counts from 0 to 9 and adds each value (multiplied by 10) to a list."
      ]
    },
    {
      "cell_type": "code",
      "metadata": {
        "id": "6NVc20CCD5lL",
        "colab_type": "code",
        "outputId": "f6009c45-eda4-4deb-a982-4ba3ece7c497",
        "colab": {}
      },
      "source": [
        "lst = [x*10 for x in range(10)]\n",
        "print(lst)"
      ],
      "execution_count": 0,
      "outputs": [
        {
          "output_type": "stream",
          "text": [
            "[0, 10, 20, 30, 40, 50, 60, 70, 80, 90]\n"
          ],
          "name": "stdout"
        }
      ]
    },
    {
      "cell_type": "markdown",
      "metadata": {
        "id": "TZz24A3mD5lQ",
        "colab_type": "text"
      },
      "source": [
        "A dictionary can also be a comprehension.  The general format for this is:  dict_variable = {key:value for (key,value) in dictonary.items()}\n",
        "\n",
        "A common use for this is to build up an index to symbolic column names."
      ]
    },
    {
      "cell_type": "code",
      "metadata": {
        "id": "uw3Le3lHD5le",
        "colab_type": "code",
        "outputId": "9d95dbbc-37d1-4bea-8a6d-ce58505c197b",
        "colab": {}
      },
      "source": [
        "text = ['col-zero','col-one', 'col-two', 'col-three']\n",
        "lookup = {key:value for (value,key) in enumerate(text)}\n",
        "print(lookup)"
      ],
      "execution_count": 0,
      "outputs": [
        {
          "output_type": "stream",
          "text": [
            "{'col-zero': 0, 'col-one': 1, 'col-two': 2, 'col-three': 3}\n"
          ],
          "name": "stdout"
        }
      ]
    },
    {
      "cell_type": "markdown",
      "metadata": {
        "id": "AXhcYCVAD5lv",
        "colab_type": "text"
      },
      "source": [
        "This can be used to easily find the index of a column by name."
      ]
    },
    {
      "cell_type": "code",
      "metadata": {
        "id": "_b30yPeMD5lw",
        "colab_type": "code",
        "outputId": "a35e2f0d-4f85-4b6f-e68e-731b345d2b2b",
        "colab": {}
      },
      "source": [
        "print(f'The index of \"col-two\" is {lookup[\"col-two\"]}')"
      ],
      "execution_count": 0,
      "outputs": [
        {
          "output_type": "stream",
          "text": [
            "The index of \"col-two\" is 2\n"
          ],
          "name": "stdout"
        }
      ]
    }
  ]
}